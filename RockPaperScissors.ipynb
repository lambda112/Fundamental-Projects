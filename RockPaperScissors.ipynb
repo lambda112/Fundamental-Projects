{
 "cells": [
  {
   "cell_type": "code",
   "execution_count": 1,
   "id": "2a05c5ac-9e48-4547-8fd7-97d9dab180ce",
   "metadata": {
    "tags": []
   },
   "outputs": [],
   "source": [
    "import random\n",
    "import pandas as pd\n",
    "import matplotlib.pyplot as plt\n",
    "import re\n",
    "\n",
    "throws = {\"rock\": \"paper\", \"scissors\": \"rock\", \"paper\" : \"scissors\"}\n",
    "answer = re.compile(r\"(YES)|(Y)\")\n",
    "answer2 = re.compile(r\"(NO)|(N)\")\n",
    "\n",
    "def win(p1_score, p2_score, draw, index):\n",
    "    while True:\n",
    "        try:\n",
    "            count = int(input(\"How Many Rounds Do You Want to Play?: \"))\n",
    "            break\n",
    "        except ValueError:\n",
    "            print(\"Enter a Number!\")\n",
    "            \n",
    "    for i in range(count):\n",
    "        player1 = random.choice(list(throws.keys()))\n",
    "        player2 = random.choice(list(throws.keys()))\n",
    "        \n",
    "        if player1 == throws[player2]:\n",
    "            p1_score.append(1)\n",
    "            p2_score.append(0)\n",
    "            draw.append(0)\n",
    "            index.append(f\"PLAYER1 WINS {player1} {player2}\")\n",
    "        \n",
    "        elif player2 == throws[player1]:\n",
    "            p1_score.append(0)\n",
    "            p2_score.append(1)\n",
    "            draw.append(0)\n",
    "            index.append(f\"PLAYER2 WINS {player2} {player1}\")\n",
    " \n",
    "        else:\n",
    "            p2_score.append(0)\n",
    "            p1_score.append(0)\n",
    "            draw.append(1)\n",
    "            index.append(f\"DRAW {player1} {player2}\")\n",
    "            \n",
    "        \n",
    "    score = pd.DataFrame({\"Player1_Score\": p1_score, \"Player2_Score\": p2_score, \"Draws\": draw})\n",
    "    score.index = index\n",
    "    score.loc[\"Total\", :] = [sum(score.Player1_Score), sum(score.Player2_Score), sum(score.Draws)] \n",
    "    score = score.astype(int)\n",
    "    print(score)\n",
    "    \n",
    "    test = input(\"Do you want to continue? Y/N: \").upper()\n",
    "    while answer.search(test) is None and answer2.search(test) is None:      \n",
    "        test = input(\"Do you want to continue? Y/N: \").upper()\n",
    "        \n",
    "    if answer.search(test):\n",
    "        return win([], [], [], [])\n",
    "\n",
    "    elif answer2.search(test):\n",
    "        print(score)\n",
    "        index = []\n",
    "        \n",
    "    fig = plt.figure()\n",
    "    fig.patch.set_facecolor('black')\n",
    "    plt.rcParams['text.color'] = 'white'\n",
    "    \n",
    "    plt.title(\"Player1 Wins\" if score.Player1_Score[\"Total\"] > score.Player2_Score[\"Total\"] \\\n",
    "    else \"Player2 Wins\" if score.Player2_Score[\"Total\"] > score.Player1_Score[\"Total\"] else \"Draw\")\n",
    "    patches, texts, autotexts = plt.pie(score.loc[\"Total\", :].values,labels = [\"Player1\", \"Player2\", \"Draw\"], \\\n",
    "                                autopct = \"%1.1f%%\", pctdistance = 0.8, explode  = [0.01,0.01,0.01])\n",
    "    \n",
    "    hole = plt.Circle((0, 0), 0.65, facecolor='black')\n",
    "    plt.gcf().gca().add_artist(hole)\n",
    "    \n",
    "    for autotext in autotexts:\n",
    "        autotext.set_horizontalalignment('center')\n",
    "        autotext.set_fontstyle('italic')"
   ]
  },
  {
   "cell_type": "code",
   "execution_count": 2,
   "id": "d91ac43c-ce75-4faf-bb38-c38430b748a1",
   "metadata": {
    "tags": []
   },
   "outputs": [
    {
     "name": "stdin",
     "output_type": "stream",
     "text": [
      "How Many Rounds Do You Want to Play?:  10\n"
     ]
    },
    {
     "name": "stdout",
     "output_type": "stream",
     "text": [
      "                             Player1_Score  Player2_Score  Draws\n",
      "DRAW rock rock                           0              0      1\n",
      "PLAYER1 WINS paper rock                  1              0      0\n",
      "PLAYER1 WINS rock scissors               1              0      0\n",
      "PLAYER1 WINS scissors paper              1              0      0\n",
      "DRAW paper paper                         0              0      1\n",
      "DRAW paper paper                         0              0      1\n",
      "PLAYER2 WINS scissors paper              0              1      0\n",
      "PLAYER1 WINS rock scissors               1              0      0\n",
      "PLAYER2 WINS paper rock                  0              1      0\n",
      "PLAYER2 WINS paper rock                  0              1      0\n",
      "Total                                    4              3      3\n"
     ]
    },
    {
     "name": "stdin",
     "output_type": "stream",
     "text": [
      "Do you want to continue? Y/N:  Ifsidkhsidhs\n",
      "Do you want to continue? Y/N:  ldjsidhjs\n",
      "Do you want to continue? Y/N:  siodhsihds\n",
      "Do you want to continue? Y/N:  sdlhsds\n",
      "Do you want to continue? Y/N:  Y\n",
      "How Many Rounds Do You Want to Play?:  6\n"
     ]
    },
    {
     "name": "stdout",
     "output_type": "stream",
     "text": [
      "                             Player1_Score  Player2_Score  Draws\n",
      "PLAYER2 WINS rock scissors               0              1      0\n",
      "PLAYER2 WINS rock scissors               0              1      0\n",
      "DRAW scissors scissors                   0              0      1\n",
      "PLAYER1 WINS paper rock                  1              0      0\n",
      "PLAYER2 WINS paper rock                  0              1      0\n",
      "PLAYER1 WINS scissors paper              1              0      0\n",
      "Total                                    2              3      1\n"
     ]
    },
    {
     "name": "stdin",
     "output_type": "stream",
     "text": [
      "Do you want to continue? Y/N:  dkweih\n",
      "Do you want to continue? Y/N:  dishdsud\n",
      "Do you want to continue? Y/N:  dsidgsudgsgdu\n",
      "Do you want to continue? Y/N:  sdihshidsidhsihdsih\n",
      "Do you want to continue? Y/N:  dosdhsodsohdsodshodsdosodhsodhsodsodsohdhos\n",
      "Do you want to continue? Y/N:  N\n"
     ]
    },
    {
     "name": "stdout",
     "output_type": "stream",
     "text": [
      "                             Player1_Score  Player2_Score  Draws\n",
      "PLAYER2 WINS rock scissors               0              1      0\n",
      "PLAYER2 WINS rock scissors               0              1      0\n",
      "DRAW scissors scissors                   0              0      1\n",
      "PLAYER1 WINS paper rock                  1              0      0\n",
      "PLAYER2 WINS paper rock                  0              1      0\n",
      "PLAYER1 WINS scissors paper              1              0      0\n",
      "Total                                    2              3      1\n"
     ]
    },
    {
     "data": {
      "image/png": "[encoded data removed]",
      "text/plain": [
       "<Figure size 640x480 with 1 Axes>"
      ]
     },
     "metadata": {},
     "output_type": "display_data"
    }
   ],
   "source": [
    "win([], [], [], [])"
   ]
  },
  {
   "cell_type": "code",
   "execution_count": null,
   "id": "ac675871-31ea-4b7b-8e5b-24daba9b7366",
   "metadata": {},
   "outputs": [],
   "source": []
  }
 ],
 "metadata": {
  "kernelspec": {
   "display_name": "Python 3 (ipykernel)",
   "language": "python",
   "name": "python3"
  },
  "language_info": {
   "codemirror_mode": {
    "name": "ipython",
    "version": 3
   },
   "file_extension": ".py",
   "mimetype": "text/x-python",
   "name": "python",
   "nbconvert_exporter": "python",
   "pygments_lexer": "ipython3",
   "version": "3.11.3"
  }
 },
 "nbformat": 4,
 "nbformat_minor": 5
}
